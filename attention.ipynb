{
 "cells": [
  {
   "cell_type": "code",
   "execution_count": 266,
   "metadata": {},
   "outputs": [],
   "source": [
    "import pandas as pd\n",
    "from sklearn import preprocessing\n",
    "import keras\n",
    "from keras.utils import np_utils\n",
    "from keras.preprocessing.text import Tokenizer\n",
    "from keras.preprocessing import sequence"
   ]
  },
  {
   "cell_type": "markdown",
   "metadata": {},
   "source": [
    "# Data Processing"
   ]
  },
  {
   "cell_type": "code",
   "execution_count": 267,
   "metadata": {
    "collapsed": true
   },
   "outputs": [],
   "source": [
    "filepath = '../../Datasets/SICK/SICK.txt'\n",
    "data = pd.read_csv(filepath, sep='\\t')"
   ]
  },
  {
   "cell_type": "code",
   "execution_count": 268,
   "metadata": {},
   "outputs": [
    {
     "data": {
      "text/html": [
       "<div>\n",
       "<style>\n",
       "    .dataframe thead tr:only-child th {\n",
       "        text-align: right;\n",
       "    }\n",
       "\n",
       "    .dataframe thead th {\n",
       "        text-align: left;\n",
       "    }\n",
       "\n",
       "    .dataframe tbody tr th {\n",
       "        vertical-align: top;\n",
       "    }\n",
       "</style>\n",
       "<table border=\"1\" class=\"dataframe\">\n",
       "  <thead>\n",
       "    <tr style=\"text-align: right;\">\n",
       "      <th></th>\n",
       "      <th>pair_ID</th>\n",
       "      <th>sentence_A</th>\n",
       "      <th>sentence_B</th>\n",
       "      <th>entailment_label</th>\n",
       "      <th>relatedness_score</th>\n",
       "      <th>entailment_AB</th>\n",
       "      <th>entailment_BA</th>\n",
       "      <th>sentence_A_original</th>\n",
       "      <th>sentence_B_original</th>\n",
       "      <th>sentence_A_dataset</th>\n",
       "      <th>sentence_B_dataset</th>\n",
       "      <th>SemEval_set</th>\n",
       "    </tr>\n",
       "  </thead>\n",
       "  <tbody>\n",
       "    <tr>\n",
       "      <th>0</th>\n",
       "      <td>1</td>\n",
       "      <td>A group of kids is playing in a yard and an ol...</td>\n",
       "      <td>A group of boys in a yard is playing and a man...</td>\n",
       "      <td>NEUTRAL</td>\n",
       "      <td>4.5</td>\n",
       "      <td>A_neutral_B</td>\n",
       "      <td>B_neutral_A</td>\n",
       "      <td>A group of children playing in a yard, a man i...</td>\n",
       "      <td>A group of children playing in a yard, a man i...</td>\n",
       "      <td>FLICKR</td>\n",
       "      <td>FLICKR</td>\n",
       "      <td>TRAIN</td>\n",
       "    </tr>\n",
       "    <tr>\n",
       "      <th>1</th>\n",
       "      <td>2</td>\n",
       "      <td>A group of children is playing in the house an...</td>\n",
       "      <td>A group of kids is playing in a yard and an ol...</td>\n",
       "      <td>NEUTRAL</td>\n",
       "      <td>3.2</td>\n",
       "      <td>A_contradicts_B</td>\n",
       "      <td>B_neutral_A</td>\n",
       "      <td>A group of children playing in a yard, a man i...</td>\n",
       "      <td>A group of children playing in a yard, a man i...</td>\n",
       "      <td>FLICKR</td>\n",
       "      <td>FLICKR</td>\n",
       "      <td>TRAIN</td>\n",
       "    </tr>\n",
       "    <tr>\n",
       "      <th>2</th>\n",
       "      <td>3</td>\n",
       "      <td>The young boys are playing outdoors and the ma...</td>\n",
       "      <td>The kids are playing outdoors near a man with ...</td>\n",
       "      <td>ENTAILMENT</td>\n",
       "      <td>4.7</td>\n",
       "      <td>A_entails_B</td>\n",
       "      <td>B_entails_A</td>\n",
       "      <td>The children are playing outdoors, while a man...</td>\n",
       "      <td>The children are playing outdoors, while a man...</td>\n",
       "      <td>FLICKR</td>\n",
       "      <td>FLICKR</td>\n",
       "      <td>TRAIN</td>\n",
       "    </tr>\n",
       "    <tr>\n",
       "      <th>3</th>\n",
       "      <td>4</td>\n",
       "      <td>The young boys are playing outdoors and the ma...</td>\n",
       "      <td>There is no boy playing outdoors and there is ...</td>\n",
       "      <td>CONTRADICTION</td>\n",
       "      <td>3.6</td>\n",
       "      <td>A_contradicts_B</td>\n",
       "      <td>B_contradicts_A</td>\n",
       "      <td>The children are playing outdoors, while a man...</td>\n",
       "      <td>The children are playing outdoors, while a man...</td>\n",
       "      <td>FLICKR</td>\n",
       "      <td>FLICKR</td>\n",
       "      <td>TRIAL</td>\n",
       "    </tr>\n",
       "    <tr>\n",
       "      <th>4</th>\n",
       "      <td>5</td>\n",
       "      <td>The kids are playing outdoors near a man with ...</td>\n",
       "      <td>A group of kids is playing in a yard and an ol...</td>\n",
       "      <td>NEUTRAL</td>\n",
       "      <td>3.4</td>\n",
       "      <td>A_neutral_B</td>\n",
       "      <td>B_neutral_A</td>\n",
       "      <td>A group of children playing in a yard, a man i...</td>\n",
       "      <td>The children are playing outdoors, while a man...</td>\n",
       "      <td>FLICKR</td>\n",
       "      <td>FLICKR</td>\n",
       "      <td>TRAIN</td>\n",
       "    </tr>\n",
       "  </tbody>\n",
       "</table>\n",
       "</div>"
      ],
      "text/plain": [
       "   pair_ID                                         sentence_A  \\\n",
       "0        1  A group of kids is playing in a yard and an ol...   \n",
       "1        2  A group of children is playing in the house an...   \n",
       "2        3  The young boys are playing outdoors and the ma...   \n",
       "3        4  The young boys are playing outdoors and the ma...   \n",
       "4        5  The kids are playing outdoors near a man with ...   \n",
       "\n",
       "                                          sentence_B entailment_label  \\\n",
       "0  A group of boys in a yard is playing and a man...          NEUTRAL   \n",
       "1  A group of kids is playing in a yard and an ol...          NEUTRAL   \n",
       "2  The kids are playing outdoors near a man with ...       ENTAILMENT   \n",
       "3  There is no boy playing outdoors and there is ...    CONTRADICTION   \n",
       "4  A group of kids is playing in a yard and an ol...          NEUTRAL   \n",
       "\n",
       "   relatedness_score    entailment_AB    entailment_BA  \\\n",
       "0                4.5      A_neutral_B      B_neutral_A   \n",
       "1                3.2  A_contradicts_B      B_neutral_A   \n",
       "2                4.7      A_entails_B      B_entails_A   \n",
       "3                3.6  A_contradicts_B  B_contradicts_A   \n",
       "4                3.4      A_neutral_B      B_neutral_A   \n",
       "\n",
       "                                 sentence_A_original  \\\n",
       "0  A group of children playing in a yard, a man i...   \n",
       "1  A group of children playing in a yard, a man i...   \n",
       "2  The children are playing outdoors, while a man...   \n",
       "3  The children are playing outdoors, while a man...   \n",
       "4  A group of children playing in a yard, a man i...   \n",
       "\n",
       "                                 sentence_B_original sentence_A_dataset  \\\n",
       "0  A group of children playing in a yard, a man i...             FLICKR   \n",
       "1  A group of children playing in a yard, a man i...             FLICKR   \n",
       "2  The children are playing outdoors, while a man...             FLICKR   \n",
       "3  The children are playing outdoors, while a man...             FLICKR   \n",
       "4  The children are playing outdoors, while a man...             FLICKR   \n",
       "\n",
       "  sentence_B_dataset SemEval_set  \n",
       "0             FLICKR       TRAIN  \n",
       "1             FLICKR       TRAIN  \n",
       "2             FLICKR       TRAIN  \n",
       "3             FLICKR       TRIAL  \n",
       "4             FLICKR       TRAIN  "
      ]
     },
     "execution_count": 268,
     "metadata": {},
     "output_type": "execute_result"
    }
   ],
   "source": [
    "data.head()"
   ]
  },
  {
   "cell_type": "code",
   "execution_count": 269,
   "metadata": {},
   "outputs": [
    {
     "data": {
      "text/plain": [
       "(9840, 12)"
      ]
     },
     "execution_count": 269,
     "metadata": {},
     "output_type": "execute_result"
    }
   ],
   "source": [
    "data.shape"
   ]
  },
  {
   "cell_type": "markdown",
   "metadata": {},
   "source": [
    "We will extract the Premise and Hypothesis along with the Entailment Label to construct our dataset."
   ]
  },
  {
   "cell_type": "code",
   "execution_count": 270,
   "metadata": {
    "collapsed": true
   },
   "outputs": [],
   "source": [
    "X = data[['sentence_A','sentence_B']]\n",
    "Y = data['entailment_label']"
   ]
  },
  {
   "cell_type": "markdown",
   "metadata": {},
   "source": [
    "We can process our label encoding now, but our sentences are not in a format which can be encoded."
   ]
  },
  {
   "cell_type": "code",
   "execution_count": 271,
   "metadata": {},
   "outputs": [
    {
     "name": "stdout",
     "output_type": "stream",
     "text": [
      "[[0. 0. 1.]\n",
      " [0. 0. 1.]\n",
      " [0. 1. 0.]\n",
      " ...\n",
      " [0. 0. 1.]\n",
      " [0. 0. 1.]\n",
      " [0. 0. 1.]]\n"
     ]
    }
   ],
   "source": [
    "le = preprocessing.LabelEncoder().fit(Y)\n",
    "Y = np_utils.to_categorical(le.transform(Y))\n",
    "print(Y)"
   ]
  },
  {
   "cell_type": "markdown",
   "metadata": {},
   "source": [
    "sentence_A holds the Premise while sentence_B holds the Hypothesis data.\n",
    "\n",
    "To tokenize our corpus we will need to stack these two columns into a single series."
   ]
  },
  {
   "cell_type": "code",
   "execution_count": 272,
   "metadata": {},
   "outputs": [],
   "source": [
    "stacked = pd.concat([X['sentence_A'], X['sentence_B']], axis=0)"
   ]
  },
  {
   "cell_type": "code",
   "execution_count": 275,
   "metadata": {},
   "outputs": [],
   "source": [
    "# Convert question corpus into sequential encoding for LSTM\n",
    "vocab_size = 2048\n",
    "sequence_length = 32\n",
    "tokenizer = Tokenizer(num_words=vocab_size)\n",
    "\n",
    "tokenizer.fit_on_texts(stacked)\n",
    "sequences = tokenizer.texts_to_sequences(stacked)\n",
    "x_text = sequence.pad_sequences(sequences, maxlen=sequence_length)\n",
    "premise_sequences = x_text[:data.shape[0]]\n",
    "hypothesis_sequences = x_text[data.shape[0]:]"
   ]
  },
  {
   "cell_type": "markdown",
   "metadata": {},
   "source": [
    "# Neural Network Definition"
   ]
  },
  {
   "cell_type": "code",
   "execution_count": 274,
   "metadata": {},
   "outputs": [],
   "source": [
    "text_inputs = Input(shape=(sequence_length,), name='text_input')\n",
    "text_x = Embedding(vocab_size, 128)(text_inputs)\n",
    "text_x = LSTM(128)(text_x)"
   ]
  }
 ],
 "metadata": {
  "kernelspec": {
   "display_name": "Python 2",
   "language": "python",
   "name": "python2"
  },
  "language_info": {
   "codemirror_mode": {
    "name": "ipython",
    "version": 2
   },
   "file_extension": ".py",
   "mimetype": "text/x-python",
   "name": "python",
   "nbconvert_exporter": "python",
   "pygments_lexer": "ipython2",
   "version": "2.7.14"
  }
 },
 "nbformat": 4,
 "nbformat_minor": 2
}
